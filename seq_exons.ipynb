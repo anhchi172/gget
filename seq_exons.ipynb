{
 "cells": [
  {
   "cell_type": "code",
   "execution_count": 1,
   "metadata": {},
   "outputs": [],
   "source": [
    "!cd .. && pip install -q ."
   ]
  },
  {
   "cell_type": "code",
   "execution_count": 2,
   "metadata": {},
   "outputs": [
    {
     "name": "stderr",
     "output_type": "stream",
     "text": [
      "Fri Mar 31 11:38:36 2023 INFO We noticed that you passed a version number with your Ensembl ID.\n",
      "Please note that gget info will always return information linked to the latest Ensembl ID version (see 'ensembl_id').\n",
      "Fri Mar 31 11:38:41 2023 INFO Requesting nucleotide sequence of ENSG00000034713 from Ensembl.\n"
     ]
    }
   ],
   "source": [
    "\n",
    "import gget\n",
    "import pandas as pd\n",
    "\n",
    "\n",
    "df = gget.info(\"ENSG00000034713\")\n",
    "seq_start = df[\"start\"].values[0]\n",
    "seq_end = df[\"end\"].values[0]\n",
    "\n",
    "transcript_ids = df[\"all_transcripts\"].values[0]\n",
    "# returns a list of transcript ids\n",
    "# ['ENST00000565057.5', 'ENST00000037243.7'...]\n",
    "\n",
    "df_exons = gget.info(\"ENST00000037243.7\")\n",
    "exons_starts = df_exons[\"exon_starts\"].values[0]\n",
    "exons_ends =  df_exons[\"exon_ends\"].values[0]\n",
    "\n",
    "start_indices = []\n",
    "end_indices = []\n",
    "for start in exons_starts:\n",
    "    start_indices.append(start - seq_start) \n",
    "for end in exons_ends:\n",
    "    end_indices.append(end - seq_start)\n",
    "\n",
    "exons = []\n",
    "\n",
    "# Only consider the sequence of nucleotides and not the name of the chromosome\n",
    "# and convert the object to a string\n",
    "seq = gget.seq(\"ENSG00000034713\")[1]\n",
    "s = str(seq)\n",
    "\n",
    "# Simultaneously loop through the list of start and end indices\n",
    "for index, (start, end) in enumerate(zip(start_indices, end_indices)):\n",
    "        exons.append(s[start:end])\n"
   ]
  },
  {
   "cell_type": "code",
   "execution_count": 3,
   "metadata": {},
   "outputs": [
    {
     "data": {
      "text/plain": [
       "['AGTCGCCGCCGTCGCTGCCGCTGCCGCTGCCGCCGTCGTTGTTGTTGTGCTCGGTGCGCTGAGCTCCGCGGCTCCGCGAGCCGGTTCCGTCCCCTTCCCGCCGCCGCCATGAAGTGGATGTTCAAGGAGGACCACTCGCTG',\n",
       " 'AACACAGATGCGTGGAGTCCGCGAAGATTCGAGCGAAATATCCCGACAGGGTTCC',\n",
       " 'GTGATTGTGGAAAAGGTCTCAGGCTCTCAGATTGTTGACATTGACAAACGGAAGTACTTGGTTCCATCTGATATCACTGTGGCTCAGTTCATGTGGATCATCAGGAAAAGGATCCAGCTTCCTTCTGAAAAGGCGATCTTCCTGTTTGTGGATAAGACAGTCCCACAGTCCA',\n",
       " 'CCTAACTATGGGACAGCTTTACGAGAAGGAAAAAGATGAAGATGGATTCTTATATGTGGCCTACAGCGGAGAGAACACTTTTGGCTTCTGAGGGCCATTGCTGGGCTAGGTGCACCGTAACTGCTTGTGTATCTTGTAAATAGCCAGCCATTTTCAGTTATTATACCAGAACCTCTTCACATAGACCTATTAGTGCATTTGTAACTGGATTTATTTCTTAATATATTGGAAGGTTTTGTTTCCTTAGACTAGTAAATTATCATACAGAGTTTTATTTTGAGTTTTTCTTTTTGTGCATTGTCCTCATGCCTGTATTCTCCAGGAAACTTGTCCTTCTGGAAATCATATTGAATGATATTTCTATATCGAAGTGAGGTAGGTGCGGTATTAAAGTGAAAGGGAAGGTGATGCATTTATTCTGGGTTATGCTTGAAGTGTTAGATGGCTAAGTATTAAAATTATCCAAATTAAATCCTTAGCAGTCAGAACACTTGCTTCACTAGAATATGCCAACTGCCAATCATGTTGGACTGAGCTAATTTGTTCCTCTTTCTGAAACTATTAAGGTAAATAATTAACAATAAAAATTCTCTTATAAAGGC']"
      ]
     },
     "execution_count": 3,
     "metadata": {},
     "output_type": "execute_result"
    }
   ],
   "source": [
    "exons"
   ]
  }
 ],
 "metadata": {
  "kernelspec": {
   "display_name": "Python 3.10.9 ('base')",
   "language": "python",
   "name": "python3"
  },
  "language_info": {
   "codemirror_mode": {
    "name": "ipython",
    "version": 3
   },
   "file_extension": ".py",
   "mimetype": "text/x-python",
   "name": "python",
   "nbconvert_exporter": "python",
   "pygments_lexer": "ipython3",
   "version": "3.10.9"
  },
  "orig_nbformat": 4,
  "vscode": {
   "interpreter": {
    "hash": "6c7936fcc4b9ce3cecb638fc2f1d3f8effc10c46916c141db8e44eda6d2aa6b9"
   }
  }
 },
 "nbformat": 4,
 "nbformat_minor": 2
}
